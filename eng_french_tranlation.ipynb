{
 "cells": [
  {
   "cell_type": "code",
   "execution_count": 40,
   "id": "43d9dd98",
   "metadata": {},
   "outputs": [],
   "source": []
  },
  {
   "cell_type": "code",
   "execution_count": 49,
   "id": "585cb631",
   "metadata": {},
   "outputs": [
    {
     "name": "stdout",
     "output_type": "stream",
     "text": [
      "0:02:03.353932\n"
     ]
    }
   ],
   "source": [
    "import re\n",
    "import time\n",
    "import datetime\n",
    "import pandas as pd\n",
    "start =  time.time()\n",
    "\n",
    "def translate(temp,word):\n",
    "    temp = trans_df.loc[trans_df[\"English\"] == temp, [\"French\"]].values[0][0]\n",
    "    if word.isupper() == False:\n",
    "        if word[0].isupper() == True:\n",
    "            for i in temp:\n",
    "                temp = temp[0].upper() + temp[1:]\n",
    "                \n",
    "    else:\n",
    "        temp = temp.upper()\n",
    "    return temp\n",
    "    \n",
    "input_data = open('t8.shakespeare.txt','r')\n",
    "output_data = open('output_trans.txt','w')\n",
    "find_word = open('find_words.txt','r')\n",
    "word_list=[]\n",
    "for line in find_word:\n",
    "    word_list.append(line.strip())\n",
    "trans = pd.read_csv('french_dictionary.csv', header = None)\n",
    "trans_df = pd.DataFrame(trans)\n",
    "trans.columns = ['English','French']\n",
    "for line in input_data:\n",
    "    words = line.split()\n",
    "#     print(words)\n",
    "    for word in words:\n",
    "        temp = word\n",
    "        temp = temp.lower()\n",
    "        if temp in word_list:\n",
    "            word = translate(temp,word)\n",
    "        \n",
    "        else:   \n",
    "            temp = re.sub(r\"[^a-zA-Z0-9]\",\"\",word)\n",
    "            temp1 = temp.lower()\n",
    "            if temp1 in word_list:\n",
    "                temp = translate(temp1,temp)\n",
    "                var = \"\"\n",
    "                count = 0\n",
    "                for i in word:\n",
    "                    if(bool(re.match('^[a-zA-Z0-9]*$', i)) == False):\n",
    "                        var = var+i\n",
    "                    else:\n",
    "                        if count  == 0:\n",
    "                            var = var+temp\n",
    "                            count = count + 1\n",
    "                word = var\n",
    "        output_data.write(word)\n",
    "        output_data.write(' ')\n",
    "input_data.close()\n",
    "output_data.close()\n",
    "find_word.close()\n",
    "end  = time.time()\n",
    "run_time = end - start\n",
    "print(datetime.timedelta(seconds = run_time))"
   ]
  },
  {
   "cell_type": "code",
   "execution_count": null,
   "id": "286811b5",
   "metadata": {},
   "outputs": [],
   "source": []
  },
  {
   "cell_type": "code",
   "execution_count": null,
   "id": "ac5e4dcb",
   "metadata": {},
   "outputs": [],
   "source": []
  },
  {
   "cell_type": "code",
   "execution_count": null,
   "id": "2e49258b",
   "metadata": {},
   "outputs": [],
   "source": []
  },
  {
   "cell_type": "code",
   "execution_count": null,
   "id": "905e4752",
   "metadata": {},
   "outputs": [],
   "source": []
  },
  {
   "cell_type": "code",
   "execution_count": null,
   "id": "ed8a8af1",
   "metadata": {},
   "outputs": [],
   "source": []
  },
  {
   "cell_type": "code",
   "execution_count": null,
   "id": "3c5b850c",
   "metadata": {},
   "outputs": [],
   "source": []
  }
 ],
 "metadata": {
  "kernelspec": {
   "display_name": "Python 3",
   "language": "python",
   "name": "python3"
  },
  "language_info": {
   "codemirror_mode": {
    "name": "ipython",
    "version": 3
   },
   "file_extension": ".py",
   "mimetype": "text/x-python",
   "name": "python",
   "nbconvert_exporter": "python",
   "pygments_lexer": "ipython3",
   "version": "3.8.5"
  }
 },
 "nbformat": 4,
 "nbformat_minor": 5
}
